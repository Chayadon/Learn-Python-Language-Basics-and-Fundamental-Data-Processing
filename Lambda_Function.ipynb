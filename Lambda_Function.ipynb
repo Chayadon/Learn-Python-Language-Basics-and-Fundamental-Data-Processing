{
 "cells": [
  {
   "attachments": {},
   "cell_type": "markdown",
   "metadata": {},
   "source": [
    "### Lambda Function(Anonymous Function)"
   ]
  },
  {
   "cell_type": "code",
   "execution_count": 1,
   "metadata": {},
   "outputs": [
    {
     "name": "stdout",
     "output_type": "stream",
     "text": [
      "Hi Dave, how are you doing?\n"
     ]
    }
   ],
   "source": [
    "def say_Hi(name):\n",
    "    print('Hi', name + ', how are you doing?')\n",
    "say_Hi('Dave')"
   ]
  },
  {
   "cell_type": "code",
   "execution_count": 3,
   "metadata": {},
   "outputs": [
    {
     "name": "stdout",
     "output_type": "stream",
     "text": [
      "Hi Dave, how are you doing?\n"
     ]
    }
   ],
   "source": [
    "(lambda name : print('Hi', name + ', how are you doing?'))('Dave')"
   ]
  },
  {
   "cell_type": "code",
   "execution_count": 5,
   "metadata": {},
   "outputs": [
    {
     "name": "stdout",
     "output_type": "stream",
     "text": [
      "Hi Dave, how are you doing?\n"
     ]
    }
   ],
   "source": [
    "lambda_say_hi = lambda name : print('Hi', name + ', how are you doing?')\n",
    "lambda_say_hi('Dave')"
   ]
  },
  {
   "attachments": {},
   "cell_type": "markdown",
   "metadata": {},
   "source": [
    "#### Higher Function"
   ]
  },
  {
   "cell_type": "code",
   "execution_count": 6,
   "metadata": {},
   "outputs": [
    {
     "data": {
      "text/plain": [
       "[2, 12, 30]"
      ]
     },
     "execution_count": 6,
     "metadata": {},
     "output_type": "execute_result"
    }
   ],
   "source": [
    "#map()\n",
    "rects = [(1,2),(3,4),(5,6)]\n",
    "list(map( lambda x: x[0] * x[1], rects ))"
   ]
  },
  {
   "cell_type": "code",
   "execution_count": 7,
   "metadata": {},
   "outputs": [
    {
     "data": {
      "text/plain": [
       "[2, 12, 30]"
      ]
     },
     "execution_count": 7,
     "metadata": {},
     "output_type": "execute_result"
    }
   ],
   "source": [
    "def get_rect_area(x):\n",
    "    return x[0] * x[1]\n",
    "list(map(get_rect_area, rects))"
   ]
  },
  {
   "cell_type": "code",
   "execution_count": 12,
   "metadata": {},
   "outputs": [
    {
     "data": {
      "text/plain": [
       "15"
      ]
     },
     "execution_count": 12,
     "metadata": {},
     "output_type": "execute_result"
    }
   ],
   "source": [
    "from functools import reduce\n",
    "\n",
    "reduce(lambda x, y: x + y, [1,2,3,4,5])"
   ]
  },
  {
   "cell_type": "code",
   "execution_count": 15,
   "metadata": {},
   "outputs": [
    {
     "data": {
      "text/plain": [
       "['Nck', 'Mike']"
      ]
     },
     "execution_count": 15,
     "metadata": {},
     "output_type": "execute_result"
    }
   ],
   "source": [
    "names = [ 'Dave', 'Nck', 'Tom', \"Mike\" ]\n",
    "list(filter(lambda s : s[0] in ['M', 'N'], names))"
   ]
  },
  {
   "attachments": {},
   "cell_type": "markdown",
   "metadata": {},
   "source": [
    "### List Comprehension"
   ]
  },
  {
   "cell_type": "code",
   "execution_count": 18,
   "metadata": {},
   "outputs": [
    {
     "name": "stdout",
     "output_type": "stream",
     "text": [
      "[2, 12, 30]\n",
      "[2, 12, 30]\n"
     ]
    }
   ],
   "source": [
    "rects = [(1,2),(3,4),(5,6)]\n",
    "\n",
    "#Lambda\n",
    "print(list(map( lambda x: x[0] * x[1], rects )))\n",
    "\n",
    "#list comprehension\n",
    "c = [ i[0] * i[1] for i in rects ]\n",
    "print(c)\n"
   ]
  },
  {
   "cell_type": "code",
   "execution_count": 20,
   "metadata": {},
   "outputs": [
    {
     "name": "stdout",
     "output_type": "stream",
     "text": [
      "15\n",
      "15\n"
     ]
    }
   ],
   "source": [
    "seq = [1,2,3,4,5]\n",
    "\n",
    "#Lambda\n",
    "print(reduce(lambda x, y: x + y, [1,2,3,4,5]))\n",
    "\n",
    "#List comprehension\n",
    "print(sum(seq))"
   ]
  },
  {
   "cell_type": "code",
   "execution_count": 21,
   "metadata": {},
   "outputs": [
    {
     "name": "stdout",
     "output_type": "stream",
     "text": [
      "['Nck', 'Mike']\n",
      "['Nck', 'Mike']\n"
     ]
    }
   ],
   "source": [
    "names = [ 'Dave', 'Nck', 'Tom', \"Mike\" ]\n",
    "\n",
    "#Lambda\n",
    "print(list(filter(lambda s : s[0] in ['M', 'N'], names)))\n",
    "\n",
    "#List\n",
    "print([ x for x in names if x[0] in [\"M\", \"N\"]])"
   ]
  }
 ],
 "metadata": {
  "kernelspec": {
   "display_name": "Python 3",
   "language": "python",
   "name": "python3"
  },
  "language_info": {
   "codemirror_mode": {
    "name": "ipython",
    "version": 3
   },
   "file_extension": ".py",
   "mimetype": "text/x-python",
   "name": "python",
   "nbconvert_exporter": "python",
   "pygments_lexer": "ipython3",
   "version": "3.11.0"
  },
  "orig_nbformat": 4,
  "vscode": {
   "interpreter": {
    "hash": "cb4f8a03642b47cb027eefd1535a14aa954300fd8261a8da54e94e47011c5925"
   }
  }
 },
 "nbformat": 4,
 "nbformat_minor": 2
}
