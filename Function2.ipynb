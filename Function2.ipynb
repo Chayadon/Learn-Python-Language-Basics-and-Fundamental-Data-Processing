{
 "cells": [
  {
   "attachments": {},
   "cell_type": "markdown",
   "metadata": {},
   "source": [
    "### Multiple Return Values"
   ]
  },
  {
   "cell_type": "code",
   "execution_count": 1,
   "metadata": {},
   "outputs": [],
   "source": [
    "import math\n",
    "\n",
    "def compute_circle(r):\n",
    "    area = math.pi * r * r\n",
    "    cir = 2 * math.pi * r\n",
    "    return area, cir"
   ]
  },
  {
   "cell_type": "code",
   "execution_count": 1,
   "metadata": {},
   "outputs": [
    {
     "ename": "NameError",
     "evalue": "name 'compute_circle' is not defined",
     "output_type": "error",
     "traceback": [
      "\u001b[1;31m---------------------------------------------------------------------------\u001b[0m",
      "\u001b[1;31mNameError\u001b[0m                                 Traceback (most recent call last)",
      "Cell \u001b[1;32mIn[1], line 1\u001b[0m\n\u001b[1;32m----> 1\u001b[0m compute_circle(\u001b[39m1\u001b[39m)\n",
      "\u001b[1;31mNameError\u001b[0m: name 'compute_circle' is not defined"
     ]
    }
   ],
   "source": [
    "compute_circle(1)"
   ]
  },
  {
   "cell_type": "code",
   "execution_count": null,
   "metadata": {},
   "outputs": [
    {
     "data": {
      "text/plain": [
       "tuple"
      ]
     },
     "execution_count": 3,
     "metadata": {},
     "output_type": "execute_result"
    }
   ],
   "source": [
    "type(compute_circle(1))"
   ]
  },
  {
   "cell_type": "code",
   "execution_count": 4,
   "metadata": {},
   "outputs": [
    {
     "name": "stdout",
     "output_type": "stream",
     "text": [
      "12.566370614359172\n",
      "12.566370614359172\n"
     ]
    }
   ],
   "source": [
    "area, circum = compute_circle(2)\n",
    "print(area)\n",
    "print(circum)"
   ]
  },
  {
   "attachments": {},
   "cell_type": "markdown",
   "metadata": {},
   "source": [
    "### Scope of Variables in Function"
   ]
  },
  {
   "cell_type": "code",
   "execution_count": 8,
   "metadata": {},
   "outputs": [
    {
     "name": "stdout",
     "output_type": "stream",
     "text": [
      "0 0 1\n",
      "in function 3.141592653589793 6.283185307179586\n",
      "a ,b 3.141592653589793 6.283185307179586\n",
      "0 0 1\n"
     ]
    }
   ],
   "source": [
    "def compute_circle(r):\n",
    "    area = math.pi * r * r\n",
    "    cir = 2 * math.pi * r\n",
    "    print('in function', area, cir)\n",
    "    return area, cir\n",
    "\n",
    "area = 0\n",
    "cir = 0\n",
    "r = 1\n",
    "print(area, cir, r)\n",
    "\n",
    "a, b = compute_circle(r)\n",
    "print('a ,b', a, b )\n",
    "print(area, cir, r)"
   ]
  },
  {
   "attachments": {},
   "cell_type": "markdown",
   "metadata": {},
   "source": [
    "### Passing a list as an argument"
   ]
  },
  {
   "cell_type": "code",
   "execution_count": 10,
   "metadata": {},
   "outputs": [],
   "source": [
    "def abs_numbers(numbers):\n",
    "    for i in range(len(numbers)):\n",
    "        if numbers[i] < 0:\n",
    "            numbers[i] = abs(numbers[i])"
   ]
  },
  {
   "cell_type": "code",
   "execution_count": 12,
   "metadata": {},
   "outputs": [
    {
     "name": "stdout",
     "output_type": "stream",
     "text": [
      "[0, 1, 2, 3, 4]\n"
     ]
    }
   ],
   "source": [
    "a = [0, -1, -2, -3, -4]\n",
    "abs_numbers(a)\n",
    "print(a)"
   ]
  },
  {
   "attachments": {},
   "cell_type": "markdown",
   "metadata": {},
   "source": [
    "### Benefit of Functions"
   ]
  },
  {
   "cell_type": "code",
   "execution_count": 14,
   "metadata": {},
   "outputs": [
    {
     "name": "stdout",
     "output_type": "stream",
     "text": [
      "3.0\n",
      "Overlap\n"
     ]
    }
   ],
   "source": [
    "x1 = int(input('x1 = '))\n",
    "y1 = int(input('y1 = '))\n",
    "r1 = int(input('r1 = '))\n",
    "\n",
    "x2 = int(input('x2 = '))\n",
    "y2 = int(input('y2 = '))\n",
    "r2 = int(input('r2 = '))\n",
    "\n",
    "dist = ((x1 - x2)**2 + (y1 - y2)**2)**0.5\n",
    "print(dist)\n",
    "\n",
    "if dist > r1 + r2: print('No overlap')\n",
    "else: print('Overlap')"
   ]
  },
  {
   "attachments": {},
   "cell_type": "markdown",
   "metadata": {},
   "source": [
    "adding another circle. With Function."
   ]
  },
  {
   "cell_type": "code",
   "execution_count": 16,
   "metadata": {},
   "outputs": [],
   "source": [
    "def get_circle():\n",
    "    x = int(input('x = '))\n",
    "    y = int(input('y = '))\n",
    "    r = int(input('r = '))\n",
    "    return ((x,y), r)\n",
    "\n",
    "def distance(p1, p2):\n",
    "    return ((p1[0] - p2[0])**2 + (p1[1] - p2[1])**2)**0.5\n",
    "\n",
    "def is_overlap(c1, c2):\n",
    "    dist = distance(c1[0], c2[0])\n",
    "    if dist > (c1[1] + c2[0]):\n",
    "        return 'No overlap'\n",
    "    else:\n",
    "        return 'Overlap'\n",
    "\n",
    "c1 = get_circle()\n",
    "c2 = get_circle()\n",
    "c3 = get_circle()\n",
    "print('1&2'+is_overlap(c1,c2))\n",
    "print('1&3'+is_overlap(c1,c3))\n",
    "print('3&2'+is_overlap(c3,c2))"
   ]
  }
 ],
 "metadata": {
  "kernelspec": {
   "display_name": "Python 3",
   "language": "python",
   "name": "python3"
  },
  "language_info": {
   "codemirror_mode": {
    "name": "ipython",
    "version": 3
   },
   "file_extension": ".py",
   "mimetype": "text/x-python",
   "name": "python",
   "nbconvert_exporter": "python",
   "pygments_lexer": "ipython3",
   "version": "3.11.0 (main, Oct 24 2022, 18:26:48) [MSC v.1933 64 bit (AMD64)]"
  },
  "orig_nbformat": 4,
  "vscode": {
   "interpreter": {
    "hash": "cb4f8a03642b47cb027eefd1535a14aa954300fd8261a8da54e94e47011c5925"
   }
  }
 },
 "nbformat": 4,
 "nbformat_minor": 2
}
