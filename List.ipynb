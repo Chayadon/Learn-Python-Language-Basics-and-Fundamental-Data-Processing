{
 "cells": [
  {
   "cell_type": "code",
   "execution_count": 1,
   "metadata": {},
   "outputs": [],
   "source": [
    "book_info = (\"Python Basics\", 39.99, 2020, (\"D.Amos\", \"D.Bader\", \"J.Jablonski\", \"F.Heisler\"))"
   ]
  },
  {
   "cell_type": "code",
   "execution_count": 2,
   "metadata": {},
   "outputs": [],
   "source": [
    "dict_book_info = {\n",
    "    'title' : \"Python Basics\",\n",
    "    'price' : 39.99,\n",
    "    'year' : 2020,\n",
    "    'author' : (\"D.Amos\", \"D.Bader\", \"J.Jablonski\", \"F.Heisler\")\n",
    "}"
   ]
  },
  {
   "cell_type": "code",
   "execution_count": 3,
   "metadata": {},
   "outputs": [
    {
     "name": "stdout",
     "output_type": "stream",
     "text": [
      "{'Name': 'Somsri Jaidee', 'tel': '02-222-1222'}\n",
      "<class 'dict'>\n"
     ]
    }
   ],
   "source": [
    "c = [('Name', \"Somsri Jaidee\"),('tel', '02-222-1222')]\n",
    "customer = dict(c)\n",
    "print(customer)\n",
    "print(type(customer))"
   ]
  },
  {
   "cell_type": "code",
   "execution_count": 4,
   "metadata": {},
   "outputs": [
    {
     "name": "stdout",
     "output_type": "stream",
     "text": [
      "{'name': 'Somsir Jaidee', 'tel': '08-888-8889'}\n",
      "<class 'dict'>\n"
     ]
    }
   ],
   "source": [
    "customer = dict(name = 'Somsir Jaidee', tel = '08-888-8889')\n",
    "print(customer)\n",
    "print(type(customer))"
   ]
  },
  {
   "cell_type": "code",
   "execution_count": 34,
   "metadata": {},
   "outputs": [
    {
     "name": "stdout",
     "output_type": "stream",
     "text": [
      "{}\n",
      "<class 'dict'>\n"
     ]
    }
   ],
   "source": [
    "d = {}\n",
    "print(d)\n",
    "print(type(d))"
   ]
  },
  {
   "cell_type": "code",
   "execution_count": 35,
   "metadata": {},
   "outputs": [],
   "source": [
    "d = { 1: 'a', 2:'b' }"
   ]
  },
  {
   "cell_type": "code",
   "execution_count": 36,
   "metadata": {},
   "outputs": [
    {
     "name": "stdout",
     "output_type": "stream",
     "text": [
      "{'title': 'Python Basics', 'price': 39.99, 'year': 2020, 'author': ('D.Amos', 'D.Bader', 'J.Jablonski', 'F.Heisler')}\n"
     ]
    }
   ],
   "source": [
    "print(dict_book_info)"
   ]
  },
  {
   "cell_type": "code",
   "execution_count": 37,
   "metadata": {},
   "outputs": [
    {
     "name": "stdout",
     "output_type": "stream",
     "text": [
      "Python Basics\n"
     ]
    }
   ],
   "source": [
    "print(dict_book_info['title'])"
   ]
  },
  {
   "cell_type": "code",
   "execution_count": 38,
   "metadata": {},
   "outputs": [
    {
     "name": "stdout",
     "output_type": "stream",
     "text": [
      "('D.Amos', 'D.Bader', 'J.Jablonski', 'F.Heisler')\n"
     ]
    }
   ],
   "source": [
    "print(dict_book_info['author'])"
   ]
  },
  {
   "cell_type": "code",
   "execution_count": 40,
   "metadata": {},
   "outputs": [
    {
     "data": {
      "text/plain": [
       "'Python Basics'"
      ]
     },
     "execution_count": 40,
     "metadata": {},
     "output_type": "execute_result"
    }
   ],
   "source": [
    "dict_book_info.get('title')"
   ]
  },
  {
   "cell_type": "code",
   "execution_count": 41,
   "metadata": {},
   "outputs": [],
   "source": [
    "customer = dict(name = 'Somsri Jaidee', tel = '02-111-2222')"
   ]
  },
  {
   "cell_type": "code",
   "execution_count": 43,
   "metadata": {},
   "outputs": [
    {
     "name": "stdout",
     "output_type": "stream",
     "text": [
      "{'name': 'Somsri Jaidee', 'tel': '02-111-3333'}\n"
     ]
    }
   ],
   "source": [
    "customer['tel'] = '02-111-3333'\n",
    "print(customer)"
   ]
  },
  {
   "cell_type": "code",
   "execution_count": 47,
   "metadata": {},
   "outputs": [
    {
     "name": "stdout",
     "output_type": "stream",
     "text": [
      "{'id': 'P123', 'name': 'watch', 'price': 50000, 'color': 'silver'}\n"
     ]
    }
   ],
   "source": [
    "product = {'id' : 'P123',\n",
    "           'name' : 'watch',\n",
    "           'price' : 50000\n",
    "}\n",
    "product['color'] = 'silver'\n",
    "\n",
    "print(product)"
   ]
  },
  {
   "cell_type": "code",
   "execution_count": 49,
   "metadata": {},
   "outputs": [
    {
     "name": "stdout",
     "output_type": "stream",
     "text": [
      "{1, 2, 3, 4, 'football'}\n"
     ]
    }
   ],
   "source": [
    "sport = {1,2,3,4,'football'}\n",
    "type(sport)\n",
    "print(sport)"
   ]
  },
  {
   "cell_type": "code",
   "execution_count": 50,
   "metadata": {},
   "outputs": [
    {
     "name": "stdout",
     "output_type": "stream",
     "text": [
      "set()\n",
      "<class 'set'>\n"
     ]
    }
   ],
   "source": [
    "s = set()\n",
    "print(s)\n",
    "print(type(s))"
   ]
  },
  {
   "cell_type": "code",
   "execution_count": 52,
   "metadata": {},
   "outputs": [
    {
     "name": "stdout",
     "output_type": "stream",
     "text": [
      "{':', 'D', 'F', 'S', 'K'}\n"
     ]
    }
   ],
   "source": [
    "s = set(\"FDFKSD:\")\n",
    "print(s)"
   ]
  },
  {
   "cell_type": "code",
   "execution_count": 54,
   "metadata": {},
   "outputs": [
    {
     "name": "stdout",
     "output_type": "stream",
     "text": [
      "{1, 2}\n"
     ]
    }
   ],
   "source": [
    "s = set({1:'x', 2:'y'})\n",
    "print(s)"
   ]
  },
  {
   "cell_type": "code",
   "execution_count": 56,
   "metadata": {},
   "outputs": [],
   "source": [
    "dad_sport = {'Soccer', 'Basketball', 'Baseball', 'Tennis'}\n",
    "mom_sport = {'baseketball', 'Volleyball', 'Tennis', 'Rowing'}\n",
    "kid_sport = {'Soccer', 'Tennis', 'Swimming'}"
   ]
  },
  {
   "cell_type": "code",
   "execution_count": 59,
   "metadata": {},
   "outputs": [
    {
     "name": "stdout",
     "output_type": "stream",
     "text": [
      "{'baseketball', 'Volleyball', 'Soccer', 'Rowing', 'Tennis', 'Basketball', 'Baseball'}\n",
      "{'baseketball', 'Volleyball', 'Soccer', 'Rowing', 'Tennis', 'Basketball', 'Baseball'}\n",
      "{'baseketball', 'Swimming', 'Volleyball', 'Soccer', 'Rowing', 'Tennis', 'Basketball', 'Baseball'}\n"
     ]
    }
   ],
   "source": [
    "#Union\n",
    "print(dad_sport | mom_sport)\n",
    "print(dad_sport.union(mom_sport))\n",
    "print(dad_sport.union(mom_sport, kid_sport))"
   ]
  },
  {
   "cell_type": "code",
   "execution_count": 60,
   "metadata": {},
   "outputs": [
    {
     "name": "stdout",
     "output_type": "stream",
     "text": [
      "{'Tennis'}\n",
      "{'Tennis'}\n",
      "{'Tennis'}\n"
     ]
    }
   ],
   "source": [
    "#Intersection\n",
    "print(dad_sport & mom_sport)\n",
    "print(dad_sport.intersection(mom_sport))\n",
    "print(dad_sport.intersection(mom_sport, kid_sport))"
   ]
  },
  {
   "cell_type": "code",
   "execution_count": 61,
   "metadata": {},
   "outputs": [
    {
     "name": "stdout",
     "output_type": "stream",
     "text": [
      "{'Soccer', 'Basketball', 'Baseball'}\n",
      "{'Soccer', 'Basketball', 'Baseball'}\n",
      "{'Basketball', 'Baseball'}\n"
     ]
    }
   ],
   "source": [
    "#Difference\n",
    "print(dad_sport - mom_sport)\n",
    "print(dad_sport.difference(mom_sport))\n",
    "print(dad_sport.difference(mom_sport, kid_sport))"
   ]
  },
  {
   "cell_type": "code",
   "execution_count": 63,
   "metadata": {},
   "outputs": [
    {
     "name": "stdout",
     "output_type": "stream",
     "text": [
      "{'Baseball', 'Volleyball', 'Soccer', 'Rowing', 'Basketball', 'baseketball'}\n",
      "{'Baseball', 'Volleyball', 'Soccer', 'Rowing', 'Basketball', 'baseketball'}\n",
      "{'Swimming', 'Basketball', 'Baseball'}\n"
     ]
    }
   ],
   "source": [
    "#Symmetric difference\n",
    "print(dad_sport ^ mom_sport)\n",
    "print(dad_sport.symmetric_difference(mom_sport))\n",
    "print(dad_sport.symmetric_difference(kid_sport))"
   ]
  },
  {
   "cell_type": "code",
   "execution_count": 72,
   "metadata": {},
   "outputs": [
    {
     "name": "stdout",
     "output_type": "stream",
     "text": [
      "True\n"
     ]
    }
   ],
   "source": [
    "s1 = {'r','g','b'}\n",
    "s2 = {'o', 'y'}\n",
    "print('g' in s1)"
   ]
  },
  {
   "cell_type": "code",
   "execution_count": null,
   "metadata": {},
   "outputs": [],
   "source": []
  }
 ],
 "metadata": {
  "kernelspec": {
   "display_name": "Python 3",
   "language": "python",
   "name": "python3"
  },
  "language_info": {
   "codemirror_mode": {
    "name": "ipython",
    "version": 3
   },
   "file_extension": ".py",
   "mimetype": "text/x-python",
   "name": "python",
   "nbconvert_exporter": "python",
   "pygments_lexer": "ipython3",
   "version": "3.11.0 (main, Oct 24 2022, 18:26:48) [MSC v.1933 64 bit (AMD64)]"
  },
  "orig_nbformat": 4,
  "vscode": {
   "interpreter": {
    "hash": "cb4f8a03642b47cb027eefd1535a14aa954300fd8261a8da54e94e47011c5925"
   }
  }
 },
 "nbformat": 4,
 "nbformat_minor": 2
}
