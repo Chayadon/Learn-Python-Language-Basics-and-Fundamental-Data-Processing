{
 "cells": [
  {
   "attachments": {},
   "cell_type": "markdown",
   "metadata": {},
   "source": [
    "#### EXAMPLE PROGRAM : COVID-19 CASES in Thailand"
   ]
  },
  {
   "cell_type": "code",
   "execution_count": 7,
   "metadata": {},
   "outputs": [],
   "source": [
    "# A function to read data from file to a list\n",
    "def read_data(f_name):\n",
    "    with open(f_name, mode = 'r', encoding = 'utf-8-sig') as f:\n",
    "        data = f.readlines()\n",
    "    return data"
   ]
  },
  {
   "cell_type": "code",
   "execution_count": 8,
   "metadata": {},
   "outputs": [],
   "source": [
    "# A function to transform data to the designated data structure for our task\n",
    "def transform_data(data, keys):\n",
    "    cases = list()\n",
    "    case = dict()\n",
    "    for item in data:\n",
    "        record = item.strip().split(',')\n",
    "        for i in range(len(keys)):\n",
    "            if len(record) != len(keys):\n",
    "                pass\n",
    "            else:\n",
    "                case[keys[i]] = record[i]\n",
    "        cases.append(case)\n",
    "        case = dict()\n",
    "    return cases"
   ]
  },
  {
   "cell_type": "code",
   "execution_count": 9,
   "metadata": {},
   "outputs": [],
   "source": [
    "def number_of_cases( cases, date ):\n",
    "    count = 0\n",
    "    for case in cases:\n",
    "        if case[\"announce_date\"] == date:\n",
    "            count += 1\n",
    "    return count"
   ]
  },
  {
   "cell_type": "code",
   "execution_count": 10,
   "metadata": {},
   "outputs": [],
   "source": [
    "def check_dict(cases):\n",
    "  j = 0\n",
    "  c = 0\n",
    "  for i in cases:\n",
    "    if len(i) != 11:\n",
    "      #print(cases[j])\n",
    "      del(cases[j])\n",
    "      c += 1\n",
    "    j += 1\n",
    "  return c"
   ]
  },
  {
   "cell_type": "code",
   "execution_count": 11,
   "metadata": {},
   "outputs": [],
   "source": [
    "def number_of_cases_by_sex( cases, start_date, end_date ):\n",
    "    males = 0\n",
    "    females = 0\n",
    "    unknown = 0\n",
    "\n",
    "    for case in cases:\n",
    "        if start_date <= case['announce_date'] <= end_date:\n",
    "            if case['sex'] == 'ชาย':\n",
    "                males += 1\n",
    "            elif case['sex'] == 'หญิง':\n",
    "                females += 1\n",
    "            else:\n",
    "                unknown += 1\n",
    "    return males, females, unknown"
   ]
  },
  {
   "cell_type": "code",
   "execution_count": 1,
   "metadata": {},
   "outputs": [],
   "source": [
    "def number_of_cases_by_ages( cases, age_range ):\n",
    "    bin = [0] * int(len(age_range)+1) # bin = [0,0,0,0,0,0,0]\n",
    "    for case in cases:\n",
    "        if case['Unit'] == 'เดือน' or case['Unit'] == 'วัน':\n",
    "            bin[0] += 1\n",
    "        elif case['Unit'] == 'ปี':\n",
    "            for i in range( len(bin)-1 ):\n",
    "                if age_range[i][0] <= float(case['age']) <= age_range[i][1]:\n",
    "                    bin[i] += 1\n",
    "                    break\n",
    "        else:\n",
    "            bin[-1] += 1\n",
    "\n",
    "    return bin"
   ]
  },
  {
   "attachments": {},
   "cell_type": "markdown",
   "metadata": {},
   "source": [
    "### Main Program"
   ]
  },
  {
   "cell_type": "code",
   "execution_count": 13,
   "metadata": {},
   "outputs": [
    {
     "name": "stdout",
     "output_type": "stream",
     "text": [
      "22086\n",
      "(51589, 55674, 4580)\n",
      "[191634, 396090, 272375, 88497, 13487, 85, 80000]\n"
     ]
    }
   ],
   "source": [
    "#อ่านไฟล์\n",
    "data = read_data('confirmed-cases-since-120864.csv')\n",
    "\n",
    "#สกัดหัวตาราง เพื่อมาใช้เป็น keys ของ Dictionary\n",
    "keys = data.pop(0).strip().split(',')\n",
    "\n",
    "#แปลงข้อมูลให้อยู่ในรูปที่ต้องการ\n",
    "cases = transform_data(data, keys)\n",
    "check_dict(cases)\n",
    "\n",
    "#ดูยอดผู้ติดเชื้อในวันที่กำหนด\n",
    "print(number_of_cases(cases, '14/8/2021'))\n",
    "\n",
    "#ดูยอดผู้ติดเชื้อในช่วงเวลาที่กำหนด จำแนกตามเพศ\n",
    "print(number_of_cases_by_sex(cases, '14/8/2021', '16/8/2021'))\n",
    "\n",
    "#ดูยอดผู้ติดเชื้อทั้งหมด โดยจำแนกตามช่วงอายุ [(0,19), (20,39), (40,59), (60,79), (80,99), (100,119)]\n",
    "print(number_of_cases_by_ages( cases, [(0,19), (20,39), (40,59), (60,79), (80,99), (100,119)]))\n"
   ]
  },
  {
   "cell_type": "code",
   "execution_count": 28,
   "metadata": {},
   "outputs": [
    {
     "name": "stdout",
     "output_type": "stream",
     "text": [
      "[True, True, True, False]\n"
     ]
    }
   ],
   "source": [
    "coor = [(1,2),(2,4),(3,6),(4,9)]\n",
    "print(list(map(lambda i: i[1]==2*i[0] ,coor)))"
   ]
  }
 ],
 "metadata": {
  "kernelspec": {
   "display_name": "Python 3",
   "language": "python",
   "name": "python3"
  },
  "language_info": {
   "codemirror_mode": {
    "name": "ipython",
    "version": 3
   },
   "file_extension": ".py",
   "mimetype": "text/x-python",
   "name": "python",
   "nbconvert_exporter": "python",
   "pygments_lexer": "ipython3",
   "version": "3.11.0 (main, Oct 24 2022, 18:26:48) [MSC v.1933 64 bit (AMD64)]"
  },
  "orig_nbformat": 4,
  "vscode": {
   "interpreter": {
    "hash": "cb4f8a03642b47cb027eefd1535a14aa954300fd8261a8da54e94e47011c5925"
   }
  }
 },
 "nbformat": 4,
 "nbformat_minor": 2
}
